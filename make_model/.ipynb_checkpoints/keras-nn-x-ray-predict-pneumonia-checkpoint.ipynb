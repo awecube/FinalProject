{
 "cells": [
  {
   "cell_type": "markdown",
   "metadata": {
    "_uuid": "a294e7c42ce849d10ec8d41a3347a9496f5cde67"
   },
   "source": [
    "# Binary classification with CNN"
   ]
  },
  {
   "cell_type": "markdown",
   "metadata": {
    "_uuid": "e5b516ff56512bd7de9e0a1a5ee3b2cb64ed8323"
   },
   "source": [
    "### Import"
   ]
  },
  {
   "cell_type": "code",
   "execution_count": null,
   "metadata": {
    "_uuid": "b3414a6501e086b4ae0c1e5e1d07c6063deb56a7",
    "execution": {
     "iopub.execute_input": "2022-01-06T10:41:57.733088Z",
     "iopub.status.busy": "2022-01-06T10:41:57.73246Z",
     "iopub.status.idle": "2022-01-06T10:42:03.696192Z",
     "shell.execute_reply": "2022-01-06T10:42:03.694978Z",
     "shell.execute_reply.started": "2022-01-06T10:41:57.732996Z"
    }
   },
   "outputs": [],
   "source": [
    "from keras.preprocessing.image import ImageDataGenerator, load_img\n",
    "from keras.models import Sequential\n",
    "from keras.layers import Conv2D, MaxPooling2D\n",
    "from keras.layers import Activation, Dropout, Flatten, Dense\n",
    "from keras import backend as K\n",
    "\n",
    "import os\n",
    "import numpy as np\n",
    "import pandas as np\n",
    "\n",
    "import matplotlib.pyplot as plt\n",
    "%matplotlib inline"
   ]
  },
  {
   "cell_type": "markdown",
   "metadata": {
    "_uuid": "e668e47eadc515fac8b436f1afe550a60b6bc6ba"
   },
   "source": [
    "### Img"
   ]
  },
  {
   "cell_type": "code",
   "execution_count": null,
   "metadata": {
    "_uuid": "a6fc32162ae1d0b163ed3f364035d0830bcc6584",
    "execution": {
     "iopub.execute_input": "2022-01-06T10:42:10.347226Z",
     "iopub.status.busy": "2022-01-06T10:42:10.346659Z",
     "iopub.status.idle": "2022-01-06T10:42:10.369673Z",
     "shell.execute_reply": "2022-01-06T10:42:10.368996Z",
     "shell.execute_reply.started": "2022-01-06T10:42:10.346982Z"
    }
   },
   "outputs": [],
   "source": [
    "print(os.listdir(\"../input/chest_xray/chest_xray\"))\n",
    "\n",
    "print(os.listdir(\"../input/chest_xray/chest_xray/train\"))\n",
    "\n",
    "print(os.listdir(\"../input/chest_xray/chest_xray/train/\"))"
   ]
  },
  {
   "cell_type": "code",
   "execution_count": null,
   "metadata": {
    "_uuid": "f0cc54a0947052f0904611ce913fbb39d503a093",
    "execution": {
     "iopub.execute_input": "2022-01-06T10:42:17.493874Z",
     "iopub.status.busy": "2022-01-06T10:42:17.493301Z",
     "iopub.status.idle": "2022-01-06T10:42:17.870209Z",
     "shell.execute_reply": "2022-01-06T10:42:17.868799Z",
     "shell.execute_reply.started": "2022-01-06T10:42:17.493809Z"
    }
   },
   "outputs": [],
   "source": [
    "img_name = 'NORMAL2-IM-0588-0001.jpeg'\n",
    "img_normal = load_img('../input/chest_xray/chest_xray/train/NORMAL/' + img_name)\n",
    "\n",
    "print('NORMAL')\n",
    "plt.imshow(img_normal)\n",
    "plt.show()"
   ]
  },
  {
   "cell_type": "code",
   "execution_count": null,
   "metadata": {
    "_uuid": "46397323a451df86eb2414bfeecb1e5fbc41a51d",
    "execution": {
     "iopub.execute_input": "2022-01-06T10:42:23.564671Z",
     "iopub.status.busy": "2022-01-06T10:42:23.564259Z",
     "iopub.status.idle": "2022-01-06T10:42:23.889468Z",
     "shell.execute_reply": "2022-01-06T10:42:23.887863Z",
     "shell.execute_reply.started": "2022-01-06T10:42:23.564585Z"
    }
   },
   "outputs": [],
   "source": [
    "img_name = 'person63_bacteria_306.jpeg'\n",
    "img_pneumonia = load_img('../input/chest_xray/chest_xray/train/PNEUMONIA/' + img_name)\n",
    "\n",
    "print('PNEUMONIA')\n",
    "plt.imshow(img_pneumonia)\n",
    "plt.show()"
   ]
  },
  {
   "cell_type": "markdown",
   "metadata": {
    "_uuid": "9f7b082b32bbe84b8a58fe055a2db51fb31be5e0"
   },
   "source": [
    "### Create variable"
   ]
  },
  {
   "cell_type": "code",
   "execution_count": null,
   "metadata": {
    "_uuid": "a7b3d31411d932082af8199660bd47b6d6e4d7a4",
    "execution": {
     "iopub.execute_input": "2022-01-06T10:42:30.024831Z",
     "iopub.status.busy": "2022-01-06T10:42:30.024459Z",
     "iopub.status.idle": "2022-01-06T10:42:30.0303Z",
     "shell.execute_reply": "2022-01-06T10:42:30.029271Z",
     "shell.execute_reply.started": "2022-01-06T10:42:30.02478Z"
    }
   },
   "outputs": [],
   "source": [
    "# dimensions of our images.\n",
    "img_width, img_height = 150, 150"
   ]
  },
  {
   "cell_type": "code",
   "execution_count": null,
   "metadata": {
    "_uuid": "707187c665591bd285e646b99c2fef818de42ea6",
    "execution": {
     "iopub.execute_input": "2022-01-06T10:42:34.148864Z",
     "iopub.status.busy": "2022-01-06T10:42:34.148217Z",
     "iopub.status.idle": "2022-01-06T10:42:34.153388Z",
     "shell.execute_reply": "2022-01-06T10:42:34.152563Z",
     "shell.execute_reply.started": "2022-01-06T10:42:34.148813Z"
    }
   },
   "outputs": [],
   "source": [
    "train_data_dir = '../input/chest_xray/chest_xray/train'\n",
    "validation_data_dir = '../input/chest_xray/chest_xray/val'\n",
    "test_data_dir = '../input/chest_xray/chest_xray/test'\n",
    "\n",
    "nb_train_samples = 5217\n",
    "nb_validation_samples = 17\n",
    "epochs = 20\n",
    "batch_size = 16"
   ]
  },
  {
   "cell_type": "code",
   "execution_count": null,
   "metadata": {
    "_uuid": "805bef231f3f9237172fe564ecd6586c8cd656bd",
    "execution": {
     "iopub.execute_input": "2022-01-06T10:45:00.384352Z",
     "iopub.status.busy": "2022-01-06T10:45:00.383667Z",
     "iopub.status.idle": "2022-01-06T10:45:00.39047Z",
     "shell.execute_reply": "2022-01-06T10:45:00.38942Z",
     "shell.execute_reply.started": "2022-01-06T10:45:00.384203Z"
    }
   },
   "outputs": [],
   "source": [
    "if K.image_data_format() == 'channels_first':\n",
    "    input_shape = (3, img_width, img_height)\n",
    "else:\n",
    "    input_shape = (img_width, img_height, 3)"
   ]
  },
  {
   "cell_type": "markdown",
   "metadata": {
    "_uuid": "8528318adfc90bcfbf1148b818ccf85dffd2a23e"
   },
   "source": [
    "### Create Sequential model"
   ]
  },
  {
   "cell_type": "code",
   "execution_count": null,
   "metadata": {
    "_uuid": "46a2e630a0cd7409e3fea068c24da29138d5b1ce",
    "execution": {
     "iopub.execute_input": "2022-01-06T10:48:18.978473Z",
     "iopub.status.busy": "2022-01-06T10:48:18.978049Z",
     "iopub.status.idle": "2022-01-06T10:48:19.150166Z",
     "shell.execute_reply": "2022-01-06T10:48:19.149166Z",
     "shell.execute_reply.started": "2022-01-06T10:48:18.978407Z"
    }
   },
   "outputs": [],
   "source": [
    "model = Sequential()\n",
    "model.add(Conv2D(32, (3, 3), input_shape=input_shape))\n",
    "model.add(Activation('relu'))\n",
    "model.add(MaxPooling2D(pool_size=(2, 2)))\n",
    "\n",
    "model.add(Conv2D(32, (3, 3)))\n",
    "model.add(Activation('relu'))\n",
    "model.add(MaxPooling2D(pool_size=(2, 2)))\n",
    "\n",
    "model.add(Conv2D(64, (3, 3)))\n",
    "model.add(Activation('relu'))\n",
    "model.add(MaxPooling2D(pool_size=(2, 2)))\n",
    "\n",
    "model.add(Flatten())\n",
    "model.add(Dense(64))\n",
    "model.add(Activation('relu'))\n",
    "model.add(Dropout(0.5))\n",
    "model.add(Dense(1))\n",
    "model.add(Activation('sigmoid'))"
   ]
  },
  {
   "cell_type": "markdown",
   "metadata": {
    "_uuid": "3058007ead9f68d02f4c5e37215973265ff08f85"
   },
   "source": [
    "### Check information about model"
   ]
  },
  {
   "cell_type": "code",
   "execution_count": null,
   "metadata": {
    "_uuid": "e46ec3381202bb48c4b5b8757ae216d3419fa461",
    "execution": {
     "iopub.execute_input": "2022-01-06T10:48:28.748077Z",
     "iopub.status.busy": "2022-01-06T10:48:28.747509Z",
     "iopub.status.idle": "2022-01-06T10:48:28.756157Z",
     "shell.execute_reply": "2022-01-06T10:48:28.755312Z",
     "shell.execute_reply.started": "2022-01-06T10:48:28.747837Z"
    }
   },
   "outputs": [],
   "source": [
    "model.layers"
   ]
  },
  {
   "cell_type": "code",
   "execution_count": null,
   "metadata": {
    "_uuid": "f8ad81e7e7fbaf8227caed6560c2eb6d0165d8d7",
    "execution": {
     "iopub.execute_input": "2022-01-06T10:48:36.090447Z",
     "iopub.status.busy": "2022-01-06T10:48:36.089725Z",
     "iopub.status.idle": "2022-01-06T10:48:36.097432Z",
     "shell.execute_reply": "2022-01-06T10:48:36.096376Z",
     "shell.execute_reply.started": "2022-01-06T10:48:36.090378Z"
    }
   },
   "outputs": [],
   "source": [
    "model.input"
   ]
  },
  {
   "cell_type": "code",
   "execution_count": null,
   "metadata": {
    "_uuid": "a377c5e20a51d28d97803c261243ae024fa9305b",
    "execution": {
     "iopub.execute_input": "2022-01-06T10:48:40.410295Z",
     "iopub.status.busy": "2022-01-06T10:48:40.409604Z",
     "iopub.status.idle": "2022-01-06T10:48:40.417237Z",
     "shell.execute_reply": "2022-01-06T10:48:40.416174Z",
     "shell.execute_reply.started": "2022-01-06T10:48:40.409931Z"
    }
   },
   "outputs": [],
   "source": [
    "model.output"
   ]
  },
  {
   "cell_type": "markdown",
   "metadata": {
    "_uuid": "aaaed230c5eccc5d0e902156620d4cf765eea513"
   },
   "source": [
    "### Compile"
   ]
  },
  {
   "cell_type": "code",
   "execution_count": null,
   "metadata": {
    "_uuid": "b265d352b0452be0932a3f88dad1799aa863bb22",
    "execution": {
     "iopub.execute_input": "2022-01-06T10:48:45.153072Z",
     "iopub.status.busy": "2022-01-06T10:48:45.152547Z",
     "iopub.status.idle": "2022-01-06T10:48:45.185944Z",
     "shell.execute_reply": "2022-01-06T10:48:45.185157Z",
     "shell.execute_reply.started": "2022-01-06T10:48:45.152866Z"
    }
   },
   "outputs": [],
   "source": [
    "model.compile(loss='binary_crossentropy',\n",
    "              optimizer='rmsprop',\n",
    "              metrics=['accuracy'])"
   ]
  },
  {
   "cell_type": "markdown",
   "metadata": {
    "_uuid": "4cc666baf4aee1d9dd5b271433492fe49ed7a091"
   },
   "source": [
    "### Upload img"
   ]
  },
  {
   "cell_type": "code",
   "execution_count": null,
   "metadata": {
    "_uuid": "2554b9e92e24b54bd81b9e7bcdfc1020f1b2d013",
    "execution": {
     "iopub.execute_input": "2022-01-06T10:48:49.100537Z",
     "iopub.status.busy": "2022-01-06T10:48:49.100146Z",
     "iopub.status.idle": "2022-01-06T10:48:49.105002Z",
     "shell.execute_reply": "2022-01-06T10:48:49.104168Z",
     "shell.execute_reply.started": "2022-01-06T10:48:49.100486Z"
    }
   },
   "outputs": [],
   "source": [
    "# this is the augmentation configuration we will use for training\n",
    "train_datagen = ImageDataGenerator(\n",
    "    rescale=1. / 255,\n",
    "    shear_range=0.2,\n",
    "    zoom_range=0.2,\n",
    "    horizontal_flip=True)"
   ]
  },
  {
   "cell_type": "code",
   "execution_count": null,
   "metadata": {
    "_uuid": "2b91d7ce6e027528166d0c3d57a0d27ecf91e202",
    "execution": {
     "iopub.execute_input": "2022-01-06T10:50:34.905271Z",
     "iopub.status.busy": "2022-01-06T10:50:34.904727Z",
     "iopub.status.idle": "2022-01-06T10:50:34.909375Z",
     "shell.execute_reply": "2022-01-06T10:50:34.908464Z",
     "shell.execute_reply.started": "2022-01-06T10:50:34.905227Z"
    }
   },
   "outputs": [],
   "source": [
    "# this is the augmentation configuration we will use for testing:\n",
    "# only rescaling\n",
    "test_datagen = ImageDataGenerator(rescale=1. / 255)"
   ]
  },
  {
   "cell_type": "code",
   "execution_count": null,
   "metadata": {
    "_uuid": "e03c9d64258481f6219088322d415148be92d524",
    "execution": {
     "iopub.execute_input": "2022-01-06T10:51:07.787421Z",
     "iopub.status.busy": "2022-01-06T10:51:07.786773Z",
     "iopub.status.idle": "2022-01-06T10:51:13.437527Z",
     "shell.execute_reply": "2022-01-06T10:51:13.436414Z",
     "shell.execute_reply.started": "2022-01-06T10:51:07.787368Z"
    }
   },
   "outputs": [],
   "source": [
    "train_generator = train_datagen.flow_from_directory(\n",
    "    train_data_dir,\n",
    "    target_size=(img_width, img_height),\n",
    "    batch_size=batch_size,\n",
    "    class_mode='binary')"
   ]
  },
  {
   "cell_type": "code",
   "execution_count": null,
   "metadata": {
    "_uuid": "a12b0ea2b165084571020837b0ac850b58ad809b",
    "execution": {
     "iopub.execute_input": "2022-01-06T10:51:15.460321Z",
     "iopub.status.busy": "2022-01-06T10:51:15.459662Z",
     "iopub.status.idle": "2022-01-06T10:51:15.575571Z",
     "shell.execute_reply": "2022-01-06T10:51:15.574309Z",
     "shell.execute_reply.started": "2022-01-06T10:51:15.460252Z"
    }
   },
   "outputs": [],
   "source": [
    "validation_generator = test_datagen.flow_from_directory(\n",
    "    validation_data_dir,\n",
    "    target_size=(img_width, img_height),\n",
    "    batch_size=batch_size,\n",
    "    class_mode='binary')"
   ]
  },
  {
   "cell_type": "code",
   "execution_count": null,
   "metadata": {
    "_uuid": "c949cb908a73cd619e98e2e7681fdedd988e0630",
    "execution": {
     "iopub.execute_input": "2022-01-06T10:51:18.063796Z",
     "iopub.status.busy": "2022-01-06T10:51:18.063284Z",
     "iopub.status.idle": "2022-01-06T10:51:18.177703Z",
     "shell.execute_reply": "2022-01-06T10:51:18.176769Z",
     "shell.execute_reply.started": "2022-01-06T10:51:18.063733Z"
    }
   },
   "outputs": [],
   "source": [
    "test_generator = test_datagen.flow_from_directory(\n",
    "    test_data_dir,\n",
    "    target_size=(img_width, img_height),\n",
    "    batch_size=batch_size,\n",
    "    class_mode='binary')"
   ]
  },
  {
   "cell_type": "code",
   "execution_count": null,
   "metadata": {
    "execution": {
     "iopub.execute_input": "2022-01-06T10:51:21.966011Z",
     "iopub.status.busy": "2022-01-06T10:51:21.965673Z",
     "iopub.status.idle": "2022-01-06T10:51:22.370039Z",
     "shell.execute_reply": "2022-01-06T10:51:22.368173Z",
     "shell.execute_reply.started": "2022-01-06T10:51:21.965975Z"
    }
   },
   "outputs": [],
   "source": [
    "from keras import backend as K\n",
    "K.tensorflow_backend._get_available_gpus()"
   ]
  },
  {
   "cell_type": "markdown",
   "metadata": {
    "_uuid": "7273a0f54ce7c7eb42807b95a356574281bf67f8"
   },
   "source": [
    "### Fit model"
   ]
  },
  {
   "cell_type": "code",
   "execution_count": null,
   "metadata": {
    "_uuid": "2f308ed21aa10578b5e28426c739f9da842b5de0",
    "execution": {
     "iopub.execute_input": "2022-01-06T10:51:35.724158Z",
     "iopub.status.busy": "2022-01-06T10:51:35.723804Z",
     "iopub.status.idle": "2022-01-06T11:34:22.878606Z",
     "shell.execute_reply": "2022-01-06T11:34:22.877352Z",
     "shell.execute_reply.started": "2022-01-06T10:51:35.724111Z"
    }
   },
   "outputs": [],
   "source": [
    "model.fit_generator(\n",
    "    train_generator,\n",
    "    steps_per_epoch=nb_train_samples // batch_size,\n",
    "    epochs=epochs,\n",
    "    validation_data=validation_generator,\n",
    "    validation_steps=nb_validation_samples // batch_size)"
   ]
  },
  {
   "cell_type": "markdown",
   "metadata": {
    "_uuid": "470c10c432026eb51d976a3acdcae4018cb9116e"
   },
   "source": [
    "### Save model`s weights"
   ]
  },
  {
   "cell_type": "code",
   "execution_count": null,
   "metadata": {
    "_uuid": "5cdacc7c7f29c9de102c8718721e1c2ee2831577",
    "execution": {
     "iopub.execute_input": "2022-01-06T11:37:22.553997Z",
     "iopub.status.busy": "2022-01-06T11:37:22.553588Z",
     "iopub.status.idle": "2022-01-06T11:37:22.611367Z",
     "shell.execute_reply": "2022-01-06T11:37:22.610545Z",
     "shell.execute_reply.started": "2022-01-06T11:37:22.553946Z"
    }
   },
   "outputs": [],
   "source": [
    "model.save('my_model.h5')"
   ]
  },
  {
   "cell_type": "code",
   "execution_count": null,
   "metadata": {
    "_uuid": "afcd3112828276f65d79b8bd6ae86c8bc190791b",
    "execution": {
     "iopub.execute_input": "2022-01-06T11:41:04.838647Z",
     "iopub.status.busy": "2022-01-06T11:41:04.837659Z",
     "iopub.status.idle": "2022-01-06T11:41:15.525906Z",
     "shell.execute_reply": "2022-01-06T11:41:15.525114Z",
     "shell.execute_reply.started": "2022-01-06T11:41:04.83858Z"
    }
   },
   "outputs": [],
   "source": [
    "# evaluate the model\n",
    "scores = model.evaluate_generator(test_generator)\n",
    "print(\"\\n%s: %.2f%%\" % (model.metrics_names[1], scores[1]*100))"
   ]
  },
  {
   "cell_type": "code",
   "execution_count": null,
   "metadata": {},
   "outputs": [],
   "source": []
  }
 ],
 "metadata": {
  "kernelspec": {
   "display_name": "Python 3",
   "language": "python",
   "name": "python3"
  },
  "language_info": {
   "codemirror_mode": {
    "name": "ipython",
    "version": 3
   },
   "file_extension": ".py",
   "mimetype": "text/x-python",
   "name": "python",
   "nbconvert_exporter": "python",
   "pygments_lexer": "ipython3",
   "version": "3.8.5"
  }
 },
 "nbformat": 4,
 "nbformat_minor": 4
}
